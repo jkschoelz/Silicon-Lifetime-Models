{
 "cells": [
  {
   "cell_type": "markdown",
   "metadata": {},
   "source": [
    "## Midgap model for surface recombination\n",
    "\n",
    "In this notebook, we want to calculate the surface recombination rate for silicon. To do this we will use a modified Shockley-Read-Hall formula.\n",
    "\n",
    "$$ U_{s} = \\int_{E_{v}}^{E_{c}} \\frac{ \\left( n_{s}p_{s} - n_{i}^{2} \\right)D_{it}dE } {\\frac{1}{\\sigma_{p}}\\left( n_{s} + n_{1} \\right) + \\frac{1}{\\sigma_{n}}\\left( p_{s} + p_{1} \\right)}  $$\n",
    "\n",
    "where $n_{s}, p_{s}$ are the surface concentrations of electrons and holes, $n_{i} = 9.65\\times 10^{9}$~charges/cm$^{3}$ is the intrinsic charge number concentration, $D_{it}$ is the density of interface defects, $\\sigma_{n}, \\sigma_{p}$ are the capture cross sections.\n",
    "\n",
    "In general the surface recombination should be dominated by the midgap state. So a simpler model might be to assume that there is only one trap state at the midgap, i.e. $D_{it}(E) = D_{it}\\delta \\left( E_{v} + \\frac{E_{gap}}{2} \\right)$. Then the surface recombination will be given by\n",
    "\n",
    "$$ U_{s} = \\frac{ \\left( n_{s}p_{s} - n_{i}^{2} \\right)D_{it}} {\\frac{1}{\\sigma_{p}}\\left( n_{s} + n_{1} \\right) + \\frac{1}{\\sigma_{n}}\\left( p_{s} + p_{1} \\right)}  $$\n",
    "\n",
    "Below, we import the relevant python modules, and define some useful constants."
   ]
  },
  {
   "cell_type": "code",
   "execution_count": null,
   "metadata": {},
   "outputs": [],
   "source": [
    "import numpy as np\n",
    "import matplotlib.pyplot as plt\n",
    "from scipy.optimize import fsolve\n",
    "from scipy.integrate import simps\n",
    "%matplotlib inline\n",
    "\n",
    "\n",
    "# Physical constants\n",
    "k = 1.38e-23                         # Boltzmann constant (m^2 kg)/(s^2 K)\n",
    "T = 300                              # Room Temperature (K)\n",
    "q = 1.6e-19                          # fundamental charge (C)\n",
    "kT = k*T                             # Thermal energy (J)\n",
    "beta = 1/kT                          # Inverse thermal energy (1/J)\n",
    "Vt = kT/q                            # Thermal Voltage (V)\n",
    "ni = 9.65e9                          # Intrinsic charge concentration of silicon (cm^-3)\n",
    "eps0 = 8.85e-12                      # Permitivity of free space (F/m)\n",
    "eps_si = 11.7                        # Dielectric constant for silicon (dimensionless)\n",
    "eps_ox = 3.8\n",
    "Li = ((kT*eps_si*eps0)/(2*q*1e6*ni))**2  # Intrinsic diffusion length silicon (m)"
   ]
  },
  {
   "cell_type": "markdown",
   "metadata": {},
   "source": [
    "Next, define functions to calculate the quasi-Fermi levels.\n",
    "\n",
    "We want to calculate the quasi-Fermi levels as a function of both minority carrier injection $\\Delta n$ and the potential bias induced in the device $V$. By comparing results, we can validate that the functions are working correctly.\n",
    "\n",
    "To calculate the bias $V$, we write (definitions taken from ABerle 1992)\n",
    "\n",
    "$$ V = \\phi_{p} - \\phi_{n} $$\n",
    "\n",
    "Far from the surface of the material, in the bulk, the total charge density is zero. We can write this as \n",
    "\n",
    "$$ p - n + N_{D} - N_{A} = 0 $$\n",
    "\n",
    "$$ n_{i}\\exp\\left( \\beta \\phi_{p} \\right) - n_{i}\\exp\\left( -\\beta \\phi_{n} \\right)  + N_{D} - N_{A} = 0 $$\n",
    "\n",
    "Combining these two equations, we can calculate the quasi-Fermi levels\n",
    "\n"
   ]
  },
  {
   "cell_type": "code",
   "execution_count": 5,
   "metadata": {},
   "outputs": [
    {
     "name": "stdout",
     "output_type": "stream",
     "text": [
      "1.0 1.0 1.0000000000007743 0.9999999999992247 1.000000000000067 0.9999999999999445 1.0 0.9999999999961232 1.0\n"
     ]
    }
   ],
   "source": [
    "# We have a function that tells us the material properties given the number of electrons/holes in an excited state\n",
    "\n",
    "def calc_phi1(delta_n, material, N):\n",
    "    # delta n:    minority carrier injection\n",
    "    # material:   'ntype' or 'ptype'\n",
    "    # N:          doping level\n",
    "    if material == 'ntype':\n",
    "        n0 = N\n",
    "        p0 = ni**2/N\n",
    "    elif material == 'ptype':\n",
    "        n0 = ni**2/N\n",
    "        p0 = N\n",
    "    # electron quantities\n",
    "    n = n0 + delta_n\n",
    "    phi_n = -Vt*np.log(n/ni)\n",
    "    # hole quantities\n",
    "    p = p0 + delta_n\n",
    "    phi_p = Vt*np.log(p/ni)\n",
    "    # photovoltage\n",
    "    V = phi_p - phi_n\n",
    "    return n0, p0, n, p, phi_n, phi_p, V, delta_n, material, N\n",
    "\n",
    "delta_n = 1.0e15\n",
    "material = 'ptype'\n",
    "N = 1.0e16\n",
    "n0, p0, n, p, phi_n, phi_p, V, delta_n, material, N = calc_phi1(delta_n, material, N)\n",
    "\n",
    "# Function to look at the properties of the material given photoinduced voltage V\n",
    "\n",
    "def calc_phi2(V, material, N):\n",
    "    # V:          photovoltage\n",
    "    # material:   'ntype' or 'ptype'\n",
    "    # N:          doping level\n",
    "    if material == 'ntype':\n",
    "        n0 = N\n",
    "        p0 = ni**2/N\n",
    "        def f(phi_n): # Charge neutrality condition\n",
    "            return np.exp((phi_n + V)/Vt) - np.exp(-phi_n/Vt) + N/ni\n",
    "        def fprime(phi_n): # Jacobian for charge neutrality\n",
    "            return (1/Vt)*np.exp((phi_n + V)/Vt) + (1/Vt)*np.exp(-phi_n/Vt)\n",
    "        phi_n = fsolve(f, 2, fprime = fprime)\n",
    "    elif material == 'ptype':\n",
    "        p0 = N\n",
    "        n0 = ni**2/N\n",
    "        def f(phi_n): # Charge neutrality condition\n",
    "            return -np.exp((phi_n + V)/Vt) + np.exp(-phi_n/Vt) + N/ni\n",
    "        def fprime(phi_n): # Jacobian for charge neutrality\n",
    "            return (1/Vt)*np.exp((phi_n + V)/Vt) + beta*np.exp(-phi_n/Vt)\n",
    "    [phi_n] = fsolve(f, 2., fprime = fprime)\n",
    "    phi_p = phi_n + V\n",
    "    n = ni*np.exp(-phi_n/Vt)\n",
    "    p = ni*np.exp(phi_p/Vt)\n",
    "    delta_n = (p - p0)/2. + (n - n0)/2.\n",
    "    return n0, p0, n, p, phi_n, phi_p, V, delta_n, material, N\n",
    "\n",
    "# Test to make sure that the two results are consistent with each other\n",
    "n02, p02, n2, p2, phi_n2, phi_p2, V2, delta_n2, material, N2 = calc_phi2(V, material, N)\n",
    "print(n0/n02, p0/p02, n/n2, p/p2, phi_n/phi_n2, phi_p/phi_p2, V/V2, delta_n/delta_n2, N/N2)\n"
   ]
  },
  {
   "cell_type": "markdown",
   "metadata": {},
   "source": [
    "For given material parameters we want to be able to calculate the surface potential. In order to do this\n",
    "\n",
    "$$ Q_{Si} = -(2*q*ni*eps0*eps_si/Vt)**(0.5)*F$$\n",
    "\n",
    "where\n",
    "\n",
    "$$ F = \\exp\\left( \\frac{\\phi_{p} - \\psi_{s}}{V_{t}} \\right) - \\exp(\\phi_{p}/V_{t}) + \\exp((\\psi_{s} - \\phi_{n})/V_{t}) - \\exp(-\\phi_{n}/V_{t}) - \\psi_{s}N/(n_{i}V_{t}) $$\n",
    "\n",
    "as psi gets more negative, the F becomes\n",
    "\n",
    "$$ 0 +  $$"
   ]
  },
  {
   "cell_type": "code",
   "execution_count": 81,
   "metadata": {
    "scrolled": false
   },
   "outputs": [
    {
     "name": "stdout",
     "output_type": "stream",
     "text": [
      "0.3641518076520738\n"
     ]
    }
   ],
   "source": [
    "# Fixed charge density (Coulomb/m^2)\n",
    "def calc_Qf(Nf):\n",
    "    return q*Nf\n",
    "\n",
    "def calc_Qfprime():\n",
    "    return 0.0\n",
    "\n",
    "def calc_Qsi(psi_s, n0, p0, n, p, phi_n, phi_p, V, delta_n, material, N):\n",
    "    # Equation 8a\n",
    "    #n0, p0, n, p, phi_n, phi_p, V, delta_n, material, N = phi_out\n",
    "    if material == 'ntype':\n",
    "        F = np.exp((phi_p + psi_s)/Vt) - np.exp(phi_p/Vt) - np.exp((-psi_s - phi_n)/Vt) + np.exp(-phi_n/Vt) - psi_s*N/(ni*Vt)\n",
    "    elif material == 'ptype':\n",
    "        #F = np.exp((phi_p + psi)/Vt) - np.exp(phi_p/Vt) - np.exp((-psi - phi_n)/Vt) + np.exp(-phi_n/Vt) + psi*N/(ni*Vt)\n",
    "        F = 2.\n",
    "    const = (2.*q*100**3*kT*ni*eps0*eps_si)**0.5\n",
    "    return -const*F\n",
    "\n",
    "def calc_Qit(psi_s, data):\n",
    "    phi_out, trap\n",
    "    \n",
    "    \n",
    "        \n",
    "def calc_Qtot(psi_s, *data):\n",
    "    Vg = 1.0\n",
    "    dox = 100.0e-9\n",
    "    Nf, n0, p0, n, p, phi_n, phi_p, V, delta_n, material, N = data\n",
    "    #n0, p0, n, p, phi_n, phi_p, V, delta_n, material, N = phi_out\n",
    "    Qf = calc_Qf(Nf)\n",
    "    Qsi = calc_Qsi(psi_s, n0, p0, n, p, phi_n, phi_p, V, delta_n, material, N)\n",
    "    return Qsi\n",
    "\n",
    "\n",
    "phi_out = calc_phi2(0.3, 'ntype', 1.0e15)\n",
    "n0, p0, n, p, phi_n, phi_p, V, delta_n, material, N = phi_out\n",
    "\n",
    "#\n",
    "# Create a plot showing different contributions for silicon charge\n",
    "#\n",
    "\n",
    "nsamp = 100\n",
    "Nf = 1.0e12\n",
    "data = (Nf, n0, p0, n, p, phi_n, phi_p, V, delta_n, \"ntype\", N)\n",
    "\n",
    "[psi_s] = fsolve(calc_Qtot, 0.5, args = data)\n",
    "print(psi_s)\n",
    "\n",
    "#psi = np.linspace(0, 0.4, 100)\n",
    "#Qtot = calc_Qtot(psi)\n",
    "\n",
    "#plt.plot(psi, Qtot)"
   ]
  },
  {
   "cell_type": "code",
   "execution_count": 51,
   "metadata": {},
   "outputs": [
    {
     "name": "stdout",
     "output_type": "stream",
     "text": [
      "1000000000000.0 1000000000000000.0 93122.5 1000010100632753.4 10100632753.098541 -0.2988190609801738 0.0011809390198261882 0.3 10100586191.98677 ntype 1000000000000000.0\n"
     ]
    }
   ],
   "source": [
    "print(*data)"
   ]
  },
  {
   "cell_type": "code",
   "execution_count": null,
   "metadata": {},
   "outputs": [],
   "source": []
  }
 ],
 "metadata": {
  "kernelspec": {
   "display_name": "Python 3",
   "language": "python",
   "name": "python3"
  },
  "language_info": {
   "codemirror_mode": {
    "name": "ipython",
    "version": 3
   },
   "file_extension": ".py",
   "mimetype": "text/x-python",
   "name": "python",
   "nbconvert_exporter": "python",
   "pygments_lexer": "ipython3",
   "version": "3.7.1"
  }
 },
 "nbformat": 4,
 "nbformat_minor": 2
}
